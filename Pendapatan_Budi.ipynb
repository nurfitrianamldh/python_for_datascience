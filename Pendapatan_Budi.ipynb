{
  "nbformat": 4,
  "nbformat_minor": 0,
  "metadata": {
    "colab": {
      "provenance": [],
      "authorship_tag": "ABX9TyO25Xb+U3F8Gp7YWFpmEo75",
      "include_colab_link": true
    },
    "kernelspec": {
      "name": "python3",
      "display_name": "Python 3"
    },
    "language_info": {
      "name": "python"
    }
  },
  "cells": [
    {
      "cell_type": "markdown",
      "metadata": {
        "id": "view-in-github",
        "colab_type": "text"
      },
      "source": [
        "<a href=\"https://colab.research.google.com/github/nurfitrianamldh/python_for_datascience/blob/main/Pendapatan_Budi.ipynb\" target=\"_parent\"><img src=\"https://colab.research.google.com/assets/colab-badge.svg\" alt=\"Open In Colab\"/></a>"
      ]
    },
    {
      "cell_type": "markdown",
      "source": [
        "## Soal\n",
        "Budi tertarik untuk melamar pekerjaan pada liburan semester yang akan berlangsung selama 5 minggu. Gaji yang akan divberikan adalah gaji per jam. Total pajak yang harus budi bayarkan dari penghasilannya selama bekerja adalah 14%. Setelah membayar pajak, budi menghabiskan 10% dari pendapatan bersihnya untuk membeli baju dan aksesoris yang akan digunakan pada semester baru, dan 1% untuk membeli alat tulis. Setelah membeli baju, aksesoris, dan alat tulis, Budi menggunakan 25% dari sisa uangnya untuk disedekahkan. Setiap Rp1000 yang Budi sedekahkan 30% nya akan diserahkan kepada anak yatim, dan sisanya akan diserahkan ke kaum dhuafa. Hitung:\n",
        "1. Pendapatan Budi selama libur musim panas sebelum membayar pajak\n",
        "2. Pendapatan Budi selama libur musim panas setelah membayar pajak\n",
        "3. Jumlah uang yang akan Budi habiskan untuk membeli pakaian dan aksesoris\n",
        "4. Jumlah uang yang akan Budi habiskan untuk membeli alat tulis\n",
        "5. Jumlah uang yang akan Budi sedekahkan\n",
        "6. Jumlah uang yang akan diterima anak yatim\n",
        "7. Jumlah uang yang akan diterima kaum dhuafa"
      ],
      "metadata": {
        "id": "BxxgBj_JNyxu"
      }
    },
    {
      "cell_type": "code",
      "execution_count": 5,
      "metadata": {
        "colab": {
          "base_uri": "https://localhost:8080/"
        },
        "id": "9exXey7HNuWu",
        "outputId": "fd6ecb44-a94e-4799-8270-069652ba5ae6"
      },
      "outputs": [
        {
          "output_type": "stream",
          "name": "stdout",
          "text": [
            "Masukkan nominal gaji Budi per jam (dalam Rupiah): 100000\n",
            "Masukkan jam kerja Budi per minggu: 32\n",
            "Pendapatan Budi selama libur musim panas sebelum membayar pajak adalah Rp16000000\n",
            "Pendapatan Budi selama libur musim panas setelah membayar pajak adalah Rp13760000.0\n",
            "Jumlah uang yang akan Budi habiskan untuk membeli pakaian dan aksesoris adalah Rp1376000.0\n",
            "Jumlah uang yang akan Budi habiskan untuk membeli alat tulis adalah Rp137600.0\n",
            "Jumlah uang yang akan Budi sedekahkan adalah Rp3061600.0\n",
            "Jumlah uang yang akan diterima anak yatim adalah Rp918480.0\n",
            "Jumlah uang yang akan diterima kaum dhuafa adalah Rp2143120.0\n"
          ]
        }
      ],
      "source": [
        "gaji = int(input(\"Masukkan nominal gaji Budi per jam (dalam Rupiah): \"))\n",
        "jam = int(input(\"Masukkan jam kerja Budi per minggu: \"))\n",
        "\n",
        "# Pendapatan Budi selama libur musim panas sebelum membayar pajak\n",
        "gaji_budi = gaji * jam * 5\n",
        "print(\"Pendapatan Budi selama libur musim panas sebelum membayar pajak adalah Rp{}\".format(gaji_budi))\n",
        "\n",
        "# Pendapatan Budi selama libur musim panas setelah membayar pajak\n",
        "pajak = 0.14 * gaji_budi\n",
        "gaji_bersih = gaji_budi - pajak\n",
        "print(\"Pendapatan Budi selama libur musim panas setelah membayar pajak adalah Rp{}\".format(gaji_bersih))\n",
        "\n",
        "# Jumlah uang yang akan Budi habiskan untuk membeli pakaian dan aksesoris\n",
        "pembelian_pakaian = 0.1 * gaji_bersih\n",
        "print(\"Jumlah uang yang akan Budi habiskan untuk membeli pakaian dan aksesoris adalah Rp{}\".format(pembelian_pakaian))\n",
        "\n",
        "# Jumlah uang yang akan Budi habiskan untuk membeli alat tulis\n",
        "pembelian_alat_tulis = 0.01 * gaji_bersih\n",
        "print(\"Jumlah uang yang akan Budi habiskan untuk membeli alat tulis adalah Rp{}\".format(pembelian_alat_tulis))\n",
        "\n",
        "# Jumlah uang yang akan Budi sedekahkan\n",
        "uang_sedekah = 0.25 * (gaji_bersih - pembelian_pakaian - pembelian_alat_tulis)\n",
        "print(\"Jumlah uang yang akan Budi sedekahkan adalah Rp{}\".format(uang_sedekah))\n",
        "\n",
        "# Jumlah uang yang akan diterima anak yatim\n",
        "uang_yatim = 0.3 * uang_sedekah\n",
        "print(\"Jumlah uang yang akan diterima anak yatim adalah Rp{}\".format(uang_yatim))\n",
        "\n",
        "# Jumlah uang yang akan diterima kaum dhuafa\n",
        "uang_dhuafa = 0.7 * uang_sedekah\n",
        "print(\"Jumlah uang yang akan diterima kaum dhuafa adalah Rp{}\".format(uang_dhuafa))"
      ]
    }
  ]
}