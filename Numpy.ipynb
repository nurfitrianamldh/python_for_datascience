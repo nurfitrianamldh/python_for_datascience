{
  "nbformat": 4,
  "nbformat_minor": 0,
  "metadata": {
    "colab": {
      "provenance": [],
      "toc_visible": true,
      "include_colab_link": true
    },
    "kernelspec": {
      "name": "python3",
      "display_name": "Python 3"
    },
    "language_info": {
      "name": "python"
    }
  },
  "cells": [
    {
      "cell_type": "markdown",
      "metadata": {
        "id": "view-in-github",
        "colab_type": "text"
      },
      "source": [
        "<a href=\"https://colab.research.google.com/github/nurfitrianamldh/python_for_datascience/blob/main/Numpy.ipynb\" target=\"_parent\"><img src=\"https://colab.research.google.com/assets/colab-badge.svg\" alt=\"Open In Colab\"/></a>"
      ]
    },
    {
      "cell_type": "markdown",
      "source": [
        "# Numpy"
      ],
      "metadata": {
        "id": "DZ5yXnqBB7Zn"
      }
    },
    {
      "cell_type": "code",
      "source": [
        "# pip install numpy"
      ],
      "metadata": {
        "id": "6cOfcRV2dezp"
      },
      "execution_count": null,
      "outputs": []
    },
    {
      "cell_type": "code",
      "source": [
        "import numpy as np"
      ],
      "metadata": {
        "id": "t9m0c01lB-UE"
      },
      "execution_count": null,
      "outputs": []
    },
    {
      "cell_type": "markdown",
      "source": [
        "## Numpy Create Array"
      ],
      "metadata": {
        "id": "U-CY1TptBWqg"
      }
    },
    {
      "cell_type": "code",
      "execution_count": null,
      "metadata": {
        "colab": {
          "base_uri": "https://localhost:8080/"
        },
        "id": "OWKfuA1eA6MO",
        "outputId": "19b83408-0c57-48f8-8fd9-ee1a38569a29"
      },
      "outputs": [
        {
          "output_type": "stream",
          "name": "stdout",
          "text": [
            "42\n"
          ]
        }
      ],
      "source": [
        "#@title 0-D Array\n",
        "\n",
        "var_array = np.array(42)\n",
        "\n",
        "print(var_array)"
      ]
    },
    {
      "cell_type": "code",
      "source": [
        "#@title 1-D Array\n",
        "\n",
        "var_array = np.array([1, 2, 3, 4, 5])\n",
        "\n",
        "print(var_array)"
      ],
      "metadata": {
        "colab": {
          "base_uri": "https://localhost:8080/"
        },
        "id": "BXsW_rNxCM5k",
        "outputId": "1f896d49-6c82-4a13-f582-bc4a492b206a"
      },
      "execution_count": null,
      "outputs": [
        {
          "output_type": "stream",
          "name": "stdout",
          "text": [
            "[1 2 3 4 5]\n"
          ]
        }
      ]
    },
    {
      "cell_type": "code",
      "source": [
        "var_array = np.ones(5)\n",
        "print(var_array)"
      ],
      "metadata": {
        "colab": {
          "base_uri": "https://localhost:8080/"
        },
        "id": "I38URGqHd6go",
        "outputId": "7a02cf18-f7f4-4e1f-cd6e-d091d3958978"
      },
      "execution_count": null,
      "outputs": [
        {
          "output_type": "stream",
          "name": "stdout",
          "text": [
            "[1. 1. 1. 1. 1.]\n"
          ]
        }
      ]
    },
    {
      "cell_type": "code",
      "source": [
        "var_array = np.zeros(4)\n",
        "print(var_array)"
      ],
      "metadata": {
        "colab": {
          "base_uri": "https://localhost:8080/"
        },
        "id": "Z3tGXYHMeFHQ",
        "outputId": "f27de239-8001-44ef-c643-9ee0c7e82794"
      },
      "execution_count": null,
      "outputs": [
        {
          "output_type": "stream",
          "name": "stdout",
          "text": [
            "[0. 0. 0. 0.]\n"
          ]
        }
      ]
    },
    {
      "cell_type": "code",
      "source": [
        "var_array = np.random.random(6)\n",
        "print(var_array)"
      ],
      "metadata": {
        "colab": {
          "base_uri": "https://localhost:8080/"
        },
        "id": "gLQ6C_jNeMGg",
        "outputId": "d4b03b7c-cfc7-45ab-d82c-2d67d74e4de0"
      },
      "execution_count": null,
      "outputs": [
        {
          "output_type": "stream",
          "name": "stdout",
          "text": [
            "[0.2517622  0.06860088 0.86215751 0.65284615 0.71573341 0.48271725]\n"
          ]
        }
      ]
    },
    {
      "cell_type": "code",
      "source": [
        "#@title 2-D Array\n",
        "\n",
        "var_array = np.array([[1, 2, 3], [4, 5, 6]])\n",
        "\n",
        "print(var_array)"
      ],
      "metadata": {
        "colab": {
          "base_uri": "https://localhost:8080/"
        },
        "id": "2hI20sR-CW7O",
        "outputId": "c0b7ecc3-02cd-4ffa-ac4c-d72d5536663b"
      },
      "execution_count": null,
      "outputs": [
        {
          "output_type": "stream",
          "name": "stdout",
          "text": [
            "[[1 2 3]\n",
            " [4 5 6]]\n"
          ]
        }
      ]
    },
    {
      "cell_type": "code",
      "source": [
        "#@title 3-D Array\n",
        "\n",
        "var_array = np.array([[[1, 2, 3], [4, 5, 6]], [[1, 2, 3], [4, 5, 6]]])\n",
        "print(var_array)"
      ],
      "metadata": {
        "colab": {
          "base_uri": "https://localhost:8080/"
        },
        "id": "rOuPAuONCfHs",
        "outputId": "a134af74-d978-40a5-c5a2-4c96a5103fb9"
      },
      "execution_count": null,
      "outputs": [
        {
          "output_type": "stream",
          "name": "stdout",
          "text": [
            "[[[1 2 3]\n",
            "  [4 5 6]]\n",
            "\n",
            " [[1 2 3]\n",
            "  [4 5 6]]]\n"
          ]
        }
      ]
    },
    {
      "cell_type": "code",
      "source": [
        "#@title Check dimensi array\n",
        "\n",
        "a = np.array(42)\n",
        "b = np.array([1, 2, 3, 4, 5])\n",
        "c = np.array([[1, 2, 3], [4, 5, 6]])\n",
        "d = np.array([[[1, 2, 3], [4, 5, 6]], [[1, 2, 3], [4, 5, 6]]])\n",
        "\n",
        "print(a.ndim)\n",
        "print(b.ndim)\n",
        "print(c.ndim)\n",
        "print(d.ndim)"
      ],
      "metadata": {
        "colab": {
          "base_uri": "https://localhost:8080/"
        },
        "id": "DzHJSRDECtin",
        "outputId": "0b5d8655-5299-4cc6-bf5f-0ee391a3baaa"
      },
      "execution_count": null,
      "outputs": [
        {
          "output_type": "stream",
          "name": "stdout",
          "text": [
            "0\n",
            "1\n",
            "2\n",
            "3\n"
          ]
        }
      ]
    },
    {
      "cell_type": "code",
      "source": [
        "#@title Create array range\n",
        "#numpy.arange(start, stop, step)\n",
        "\n",
        "var_array = np.arange(1, 20, 2)\n",
        "print(var_array)"
      ],
      "metadata": {
        "colab": {
          "base_uri": "https://localhost:8080/"
        },
        "id": "1JRfiUrqFP--",
        "outputId": "e4a5a210-7094-4618-bf57-297b3fa267e3"
      },
      "execution_count": null,
      "outputs": [
        {
          "output_type": "stream",
          "name": "stdout",
          "text": [
            "[ 1  3  5  7  9 11 13 15 17 19]\n"
          ]
        }
      ]
    },
    {
      "cell_type": "code",
      "source": [
        "# create with reshape\n",
        "\n",
        "var_array = np.arange(10).reshape((2, 5))\n",
        "print(var_array)"
      ],
      "metadata": {
        "colab": {
          "base_uri": "https://localhost:8080/"
        },
        "id": "t4s9Il1nHr2j",
        "outputId": "cd3788cb-8167-4ba2-9da4-e1486976cb07"
      },
      "execution_count": null,
      "outputs": [
        {
          "output_type": "stream",
          "name": "stdout",
          "text": [
            "[[0 1 2 3 4]\n",
            " [5 6 7 8 9]]\n"
          ]
        }
      ]
    },
    {
      "cell_type": "code",
      "source": [
        "# create numpy text\n",
        "\n",
        "var_array = np.array(['apple', 'banana', 'cherry'])\n",
        "print(var_array)"
      ],
      "metadata": {
        "colab": {
          "base_uri": "https://localhost:8080/"
        },
        "id": "xMHc-QnHJM3n",
        "outputId": "621c068b-ba65-470e-c6f7-933045e2de70"
      },
      "execution_count": null,
      "outputs": [
        {
          "output_type": "stream",
          "name": "stdout",
          "text": [
            "['apple' 'banana' 'cherry']\n"
          ]
        }
      ]
    },
    {
      "cell_type": "markdown",
      "source": [
        "## Numpy Array Indexing"
      ],
      "metadata": {
        "id": "KxH9DJQoEoSn"
      }
    },
    {
      "cell_type": "code",
      "source": [
        "#@title Akses indeks\n",
        "\n",
        "# 1-D\n",
        "var_array = np.array([85, 55, 40, 90])\n",
        "\n",
        "# mengakses data pada array\n",
        "print(var_array[3])"
      ],
      "metadata": {
        "colab": {
          "base_uri": "https://localhost:8080/"
        },
        "id": "tJ7Y4EUmEDyF",
        "outputId": "d53733ee-7191-4eed-d38c-67078b10a98f"
      },
      "execution_count": null,
      "outputs": [
        {
          "output_type": "stream",
          "name": "stdout",
          "text": [
            "90\n"
          ]
        }
      ]
    },
    {
      "cell_type": "code",
      "source": [
        "# 2-D\n",
        "var_array = np.array([[1,2,3,4,5], [6,7,8,9,10]])\n",
        "\n",
        "print(var_array[1, 2])"
      ],
      "metadata": {
        "colab": {
          "base_uri": "https://localhost:8080/"
        },
        "id": "baXMJ7tVFz3K",
        "outputId": "a5b7f156-b76f-4fa7-a676-9bdc220cbf86"
      },
      "execution_count": null,
      "outputs": [
        {
          "output_type": "stream",
          "name": "stdout",
          "text": [
            "8\n"
          ]
        }
      ]
    },
    {
      "cell_type": "code",
      "source": [
        "# 3-D\n",
        "var_array = np.array([[[1, 2, 3], [4, 5, 6]], [[7, 8, 9], [10, 11, 12]]])\n",
        "\n",
        "print(var_array[1, 1, 2])"
      ],
      "metadata": {
        "colab": {
          "base_uri": "https://localhost:8080/"
        },
        "id": "RPPsLQGWGU65",
        "outputId": "c69f991d-db5b-478b-e3e6-f009ccd03162"
      },
      "execution_count": null,
      "outputs": [
        {
          "output_type": "stream",
          "name": "stdout",
          "text": [
            "12\n"
          ]
        }
      ]
    },
    {
      "cell_type": "code",
      "source": [
        "#@title Operation indeks\n",
        "\n",
        "var_array = np.array([1, 2, 3, 4])\n",
        "\n",
        "print(var_array[2] + var_array[3])"
      ],
      "metadata": {
        "colab": {
          "base_uri": "https://localhost:8080/"
        },
        "id": "llW07msVEtTY",
        "outputId": "50d83018-1c4b-4d2e-c348-8641eca9fd0c"
      },
      "execution_count": null,
      "outputs": [
        {
          "output_type": "stream",
          "name": "stdout",
          "text": [
            "7\n"
          ]
        }
      ]
    },
    {
      "cell_type": "code",
      "source": [
        "print(var_array[0] + var_array[2])"
      ],
      "metadata": {
        "colab": {
          "base_uri": "https://localhost:8080/"
        },
        "id": "cwBVmxk7gMn7",
        "outputId": "b644b5ca-f27b-449e-d008-a3f07e375333"
      },
      "execution_count": null,
      "outputs": [
        {
          "output_type": "stream",
          "name": "stdout",
          "text": [
            "4\n"
          ]
        }
      ]
    },
    {
      "cell_type": "code",
      "source": [
        "#@title Slicing array\n",
        "\n",
        "# 1-D\n",
        "var_array = np.array([1, 2, 3, 4, 5, 6, 7])\n",
        "\n",
        "print(var_array[3:])"
      ],
      "metadata": {
        "colab": {
          "base_uri": "https://localhost:8080/"
        },
        "id": "eTRj4FKCG9AH",
        "outputId": "ce0b1f92-052d-4e8a-cbfb-699a3049463c"
      },
      "execution_count": null,
      "outputs": [
        {
          "output_type": "stream",
          "name": "stdout",
          "text": [
            "[4 5 6 7]\n"
          ]
        }
      ]
    },
    {
      "cell_type": "code",
      "source": [
        "# 2-D\n",
        "var_array = np.array([[1, 2, 3, 4, 5], [6, 7, 8, 9, 10]])\n",
        "\n",
        "print(var_array[0, 1:4])"
      ],
      "metadata": {
        "colab": {
          "base_uri": "https://localhost:8080/"
        },
        "id": "z3JtN1SmImzx",
        "outputId": "3a4de8ac-e16f-4de4-e82e-2d4a4cceaf93"
      },
      "execution_count": null,
      "outputs": [
        {
          "output_type": "stream",
          "name": "stdout",
          "text": [
            "[2 3 4]\n"
          ]
        }
      ]
    },
    {
      "cell_type": "code",
      "source": [
        "# 3-D\n",
        "var_array = np.array([[[1, 2, 3], [4, 5, 6]], [[7, 8, 9], [10, 11, 12]]])\n",
        "\n",
        "print(var_array[1, 1, 0:2])"
      ],
      "metadata": {
        "colab": {
          "base_uri": "https://localhost:8080/"
        },
        "id": "reVZZu8qI3SH",
        "outputId": "6c5d6e22-68c0-4fc1-c145-fb311f871814"
      },
      "execution_count": null,
      "outputs": [
        {
          "output_type": "stream",
          "name": "stdout",
          "text": [
            "[10 11]\n"
          ]
        }
      ]
    },
    {
      "cell_type": "code",
      "source": [
        "#@title Iterating Arrays\n",
        "\n",
        "var_array = np.array([1, 2, 3])\n",
        "\n",
        "for x in var_array:\n",
        "  print(x)"
      ],
      "metadata": {
        "colab": {
          "base_uri": "https://localhost:8080/"
        },
        "id": "Vt3YtRkXKNM1",
        "outputId": "8b75953d-ec65-4405-e9c9-a81c4bbfe390"
      },
      "execution_count": null,
      "outputs": [
        {
          "output_type": "stream",
          "name": "stdout",
          "text": [
            "1\n",
            "2\n",
            "3\n"
          ]
        }
      ]
    },
    {
      "cell_type": "code",
      "source": [
        "var_array = np.array([[[1, 2, 3], [4, 5, 6]], [[7, 8, 9], [10, 11, 12]]])\n",
        "\n",
        "for x in var_array:\n",
        "  print(x)"
      ],
      "metadata": {
        "colab": {
          "base_uri": "https://localhost:8080/"
        },
        "id": "-vHYfejOLtJn",
        "outputId": "9603cf37-567e-4723-f487-089539305b8b"
      },
      "execution_count": null,
      "outputs": [
        {
          "output_type": "stream",
          "name": "stdout",
          "text": [
            "[[1 2 3]\n",
            " [4 5 6]]\n",
            "[[ 7  8  9]\n",
            " [10 11 12]]\n"
          ]
        }
      ]
    },
    {
      "cell_type": "markdown",
      "source": [
        "## Numpy Array Join"
      ],
      "metadata": {
        "id": "IU5xo-sVMArT"
      }
    },
    {
      "cell_type": "code",
      "source": [
        "#@title Concatenate\n",
        "\n",
        "arr1 = np.array([1, 2, 3])\n",
        "arr2 = np.array([4, 5, 6])\n",
        "\n",
        "arr = np.concatenate((arr1, arr2))\n",
        "print(arr)"
      ],
      "metadata": {
        "colab": {
          "base_uri": "https://localhost:8080/"
        },
        "id": "bcYd70eGMDOv",
        "outputId": "8f2f474b-7595-4585-d282-aa968c3be34e"
      },
      "execution_count": null,
      "outputs": [
        {
          "output_type": "stream",
          "name": "stdout",
          "text": [
            "[1 2 3 4 5 6]\n"
          ]
        }
      ]
    },
    {
      "cell_type": "code",
      "source": [
        "var_array1 = np.array([[[1, 2, 3], [4, 5, 6]], [[7, 8, 9], [10, 11, 12]]])\n",
        "var_array2 = np.array([[[4, 7, 9], [1, 6, 2]], [[3, 5, 8], [19, 10, 14]]])\n",
        "\n",
        "arr = np.concatenate((var_array1, var_array2))\n",
        "print(arr)"
      ],
      "metadata": {
        "colab": {
          "base_uri": "https://localhost:8080/"
        },
        "id": "a2VusJj6hmAB",
        "outputId": "ca53011b-52e7-43fe-cda8-04f732e423c3"
      },
      "execution_count": null,
      "outputs": [
        {
          "output_type": "stream",
          "name": "stdout",
          "text": [
            "[[[ 1  2  3]\n",
            "  [ 4  5  6]]\n",
            "\n",
            " [[ 7  8  9]\n",
            "  [10 11 12]]\n",
            "\n",
            " [[ 4  7  9]\n",
            "  [ 1  6  2]]\n",
            "\n",
            " [[ 3  5  8]\n",
            "  [19 10 14]]]\n"
          ]
        }
      ]
    },
    {
      "cell_type": "code",
      "source": [
        "#@title Stack\n",
        "\n",
        "arr1 = np.array([1, 2, 3])\n",
        "arr2 = np.array([4, 5, 6])\n",
        "\n",
        "# arr = np.stack((arr1, arr2))\n",
        "# arr = np.hstack((arr1, arr2))\n",
        "# arr = np.vstack((arr1, arr2))\n",
        "arr = np.dstack((arr1, arr2))\n",
        "\n",
        "print(arr)"
      ],
      "metadata": {
        "colab": {
          "base_uri": "https://localhost:8080/"
        },
        "id": "quCBNSDeMYGT",
        "outputId": "46810ec1-95c6-4953-e10d-7e03b2f81e61"
      },
      "execution_count": null,
      "outputs": [
        {
          "output_type": "stream",
          "name": "stdout",
          "text": [
            "[[[1 4]\n",
            "  [2 5]\n",
            "  [3 6]]]\n"
          ]
        }
      ]
    },
    {
      "cell_type": "markdown",
      "source": [
        "## Numpy Splitting"
      ],
      "metadata": {
        "id": "8Im0vogqNXAd"
      }
    },
    {
      "cell_type": "code",
      "source": [
        "# 1-D\n",
        "arr = np.array([1, 2, 3, 4, 5, 6])\n",
        "newarr = np.array_split(arr, 5)\n",
        "\n",
        "print(newarr)"
      ],
      "metadata": {
        "colab": {
          "base_uri": "https://localhost:8080/"
        },
        "id": "Y-3UAsZ-Mwsi",
        "outputId": "f2d7f406-8a3d-44f8-ba5b-6e0aeef5dc96"
      },
      "execution_count": null,
      "outputs": [
        {
          "output_type": "stream",
          "name": "stdout",
          "text": [
            "[array([1, 2]), array([3]), array([4]), array([5]), array([6])]\n"
          ]
        }
      ]
    },
    {
      "cell_type": "code",
      "source": [
        "# 2-D\n",
        "arr = np.array([[1, 2], [3, 4], [5, 6], [7, 8], [9, 10], [11, 12]])\n",
        "newarr = np.array_split(arr, 3)\n",
        "\n",
        "print(newarr)"
      ],
      "metadata": {
        "colab": {
          "base_uri": "https://localhost:8080/"
        },
        "id": "bYP_BmtzNgH7",
        "outputId": "28d4f738-7a5d-4292-a1f4-3322f7b3cf82"
      },
      "execution_count": null,
      "outputs": [
        {
          "output_type": "stream",
          "name": "stdout",
          "text": [
            "[array([[1, 2],\n",
            "       [3, 4]]), array([[5, 6],\n",
            "       [7, 8]]), array([[ 9, 10],\n",
            "       [11, 12]])]\n"
          ]
        }
      ]
    },
    {
      "cell_type": "code",
      "source": [
        "# 3-D\n",
        "arr = np.array([[[1, 2, 3], [4, 5, 6]], [[1, 2, 3], [4, 5, 6]]])\n",
        "newarr = np.array_split(arr, 2)\n",
        "\n",
        "print(newarr)"
      ],
      "metadata": {
        "colab": {
          "base_uri": "https://localhost:8080/"
        },
        "id": "r9cMUI_TNvCD",
        "outputId": "65eac68e-3262-4252-ed04-dc2e9fe0cedf"
      },
      "execution_count": null,
      "outputs": [
        {
          "output_type": "stream",
          "name": "stdout",
          "text": [
            "[array([[[1, 2, 3],\n",
            "        [4, 5, 6]]]), array([[[1, 2, 3],\n",
            "        [4, 5, 6]]])]\n"
          ]
        }
      ]
    },
    {
      "cell_type": "markdown",
      "source": [
        "## Numpy Matriks"
      ],
      "metadata": {
        "id": "SxA4iVwtOY4T"
      }
    },
    {
      "cell_type": "code",
      "source": [
        "matriks = [[1,2,3],\n",
        "           [4,5,6],\n",
        "           [7,8,9]]\n",
        "\n",
        "matrik_np = np.array(matriks)\n",
        "print(matrik_np)"
      ],
      "metadata": {
        "colab": {
          "base_uri": "https://localhost:8080/"
        },
        "id": "Yfw8yK-XOcxe",
        "outputId": "94065bc8-113a-47d6-801d-caee8fe86d6b"
      },
      "execution_count": null,
      "outputs": [
        {
          "output_type": "stream",
          "name": "stdout",
          "text": [
            "[[1 2 3]\n",
            " [4 5 6]\n",
            " [7 8 9]]\n"
          ]
        }
      ]
    },
    {
      "cell_type": "code",
      "source": [
        "#@title Operasi matrik\n",
        "\n",
        "matrik_a = np.array([\n",
        "    [1, 2, 3],\n",
        "    [4, 5, 6],\n",
        "    [7, 8, 9]])\n",
        "\n",
        "matrik_b = np.array([\n",
        "    [3, 2, 1],\n",
        "    [6, 5, 4],\n",
        "    [9, 8, 7]])\n",
        "\n",
        "\n",
        "hasil = matrik_a + matrik_b\n",
        "print(\"Hasil Penjumlahan:\")\n",
        "print(hasil)"
      ],
      "metadata": {
        "colab": {
          "base_uri": "https://localhost:8080/"
        },
        "id": "Hz-yOa3rO_7j",
        "outputId": "6c56941e-1a38-4c0e-bd10-11f07aff5de1"
      },
      "execution_count": null,
      "outputs": [
        {
          "output_type": "stream",
          "name": "stdout",
          "text": [
            "Hasil Penjumlahan:\n",
            "[[ 4  4  4]\n",
            " [10 10 10]\n",
            " [16 16 16]]\n"
          ]
        }
      ]
    },
    {
      "cell_type": "code",
      "source": [
        "hasil = matrik_a - matrik_b\n",
        "print(\"Hasil Pengurangan:\")\n",
        "print(hasil)"
      ],
      "metadata": {
        "colab": {
          "base_uri": "https://localhost:8080/"
        },
        "id": "bHFujpfZPPb3",
        "outputId": "822058a2-68b2-446e-94e0-9c010cea2308"
      },
      "execution_count": null,
      "outputs": [
        {
          "output_type": "stream",
          "name": "stdout",
          "text": [
            "Hasil Pengurangan:\n",
            "[[-2  0  2]\n",
            " [-2  0  2]\n",
            " [-2  0  2]]\n"
          ]
        }
      ]
    },
    {
      "cell_type": "code",
      "source": [
        "# pangkat dengan power()\n",
        "\n",
        "result_power = np.power(matrik_a, 2)\n",
        "print(\"Hasil Perhitungan Pangkat (matrik_a pangkat 2):\")\n",
        "print(result_power)"
      ],
      "metadata": {
        "colab": {
          "base_uri": "https://localhost:8080/"
        },
        "id": "5lo_7Ur9Prco",
        "outputId": "61ed2212-e5bb-4aef-9cbd-86631eb7cb69"
      },
      "execution_count": null,
      "outputs": [
        {
          "output_type": "stream",
          "name": "stdout",
          "text": [
            "Hasil Perhitungan Pangkat (matrik_a pangkat 2):\n",
            "[[ 1  4  9]\n",
            " [16 25 36]\n",
            " [49 64 81]]\n"
          ]
        }
      ]
    },
    {
      "cell_type": "code",
      "source": [
        "# trigonometri dengan sin()\n",
        "\n",
        "result_power = np.sin(matrik_a)\n",
        "print(\"Hasil sin matrik_a:\")\n",
        "print(result_power)"
      ],
      "metadata": {
        "colab": {
          "base_uri": "https://localhost:8080/"
        },
        "id": "i-uvGqNBQARt",
        "outputId": "f7102c15-4b16-400f-ff13-fa30e44a7f44"
      },
      "execution_count": null,
      "outputs": [
        {
          "output_type": "stream",
          "name": "stdout",
          "text": [
            "Hasil sin matrik_a:\n",
            "[[ 0.84147098  0.90929743  0.14112001]\n",
            " [-0.7568025  -0.95892427 -0.2794155 ]\n",
            " [ 0.6569866   0.98935825  0.41211849]]\n"
          ]
        }
      ]
    },
    {
      "cell_type": "code",
      "source": [
        "#@title Transpose matrik\n",
        "\n",
        "matrik_a = np.array([\n",
        "    [1, 2, 3],\n",
        "    [4, 5, 6],\n",
        "    [7, 8, 9]])\n",
        "\n",
        "print(\"Matrik awal: \")\n",
        "print(matrik_a)\n",
        "\n",
        "\n",
        "hasil = matrik_a.transpose()\n",
        "print(\"\\nMatrik kebalikan: \")\n",
        "print(hasil)"
      ],
      "metadata": {
        "colab": {
          "base_uri": "https://localhost:8080/"
        },
        "id": "G26arLORQYQb",
        "outputId": "f3f9238d-3fb1-4f2c-9376-a189aebe00ec"
      },
      "execution_count": null,
      "outputs": [
        {
          "output_type": "stream",
          "name": "stdout",
          "text": [
            "Matrik awal: \n",
            "[[1 2 3]\n",
            " [4 5 6]\n",
            " [7 8 9]]\n",
            "\n",
            "Matrik kebalikan: \n",
            "[[1 4 7]\n",
            " [2 5 8]\n",
            " [3 6 9]]\n"
          ]
        }
      ]
    },
    {
      "cell_type": "code",
      "source": [
        "#@title Reshape matrik\n",
        "\n",
        "matrik_a = np.array([1, 2, 3, 4, 5, 6])\n",
        "\n",
        "print(\"Matrik awal: \")\n",
        "print(matrik_a)\n",
        "print(\"Ukuran = \", matrik_a.shape)\n",
        "\n",
        "# mengubah ukran ke 3x2\n",
        "hasil = matrik_a.reshape(3, 2)\n",
        "\n",
        "print(\"\\nMengubah ke 3x2: \")\n",
        "print(hasil)\n",
        "print(\"Ukuran = \", hasil.shape)"
      ],
      "metadata": {
        "colab": {
          "base_uri": "https://localhost:8080/"
        },
        "id": "WFsHSCEgQrBU",
        "outputId": "a6698890-f13a-406a-d548-b89356b06ff8"
      },
      "execution_count": null,
      "outputs": [
        {
          "output_type": "stream",
          "name": "stdout",
          "text": [
            "Matrik awal: \n",
            "[1 2 3 4 5 6]\n",
            "Ukuran =  (6,)\n",
            "\n",
            "Mengubah ke 3x2: \n",
            "[[1 2]\n",
            " [3 4]\n",
            " [5 6]]\n",
            "Ukuran =  (3, 2)\n"
          ]
        }
      ]
    },
    {
      "cell_type": "code",
      "source": [
        "#@title Matrik flatten\n",
        "\n",
        "matrik_a = np.array([\n",
        "    [1, 2, 3],\n",
        "    [4, 5, 6],\n",
        "    [7, 8, 9]])\n",
        "\n",
        "print(\"Matrik awal: \")\n",
        "print(matrik_a)\n",
        "print(\"Ukuran = \", matrik_a.shape)\n",
        "\n",
        "hasil = matrik_a.flatten()\n",
        "\n",
        "print(\"\\nMatrik setelah di-flatten: \")\n",
        "print(hasil)\n",
        "print(\"Ukuran = \", hasil.shape)"
      ],
      "metadata": {
        "colab": {
          "base_uri": "https://localhost:8080/"
        },
        "id": "Ywm8X8viRMLB",
        "outputId": "a1d97ae9-33a7-421e-ad44-608d3a71bbc6"
      },
      "execution_count": null,
      "outputs": [
        {
          "output_type": "stream",
          "name": "stdout",
          "text": [
            "Matrik awal: \n",
            "[[1 2 3]\n",
            " [4 5 6]\n",
            " [7 8 9]]\n",
            "Ukuran =  (3, 3)\n",
            "\n",
            "Matrik setelah di-flatten: \n",
            "[1 2 3 4 5 6 7 8 9]\n",
            "Ukuran =  (9,)\n"
          ]
        }
      ]
    },
    {
      "cell_type": "markdown",
      "source": [
        "## Numpy Statistik"
      ],
      "metadata": {
        "id": "lg_F01VMRqo8"
      }
    },
    {
      "cell_type": "code",
      "source": [
        "#@title rata-rata (mean)\n",
        "\n",
        "data = np.array([12, 15, 18, 22, 30, 35, 40, 45, 55, 65])\n",
        "\n",
        "mean = np.mean(data)\n",
        "print(\"Rata-rata (mean):\", mean)"
      ],
      "metadata": {
        "colab": {
          "base_uri": "https://localhost:8080/"
        },
        "id": "leAMMl5jRtnc",
        "outputId": "68de4d1c-4db2-4a2c-cc28-57ece95bcaf2"
      },
      "execution_count": null,
      "outputs": [
        {
          "output_type": "stream",
          "name": "stdout",
          "text": [
            "Rata-rata (mean): 33.7\n"
          ]
        }
      ]
    },
    {
      "cell_type": "code",
      "source": [
        "#@title median\n",
        "\n",
        "median = np.median(data)\n",
        "print(\"Median:\", median)"
      ],
      "metadata": {
        "colab": {
          "base_uri": "https://localhost:8080/"
        },
        "id": "6HKY1kjfRz0E",
        "outputId": "654e431e-ba73-4950-93c7-59473a935589"
      },
      "execution_count": null,
      "outputs": [
        {
          "output_type": "stream",
          "name": "stdout",
          "text": [
            "Median: 32.5\n"
          ]
        }
      ]
    },
    {
      "cell_type": "code",
      "source": [
        "#@title standard deviation\n",
        "\n",
        "std_deviation = np.std(data)\n",
        "print(\"Deviasi Standar (standard deviation):\", std_deviation)"
      ],
      "metadata": {
        "colab": {
          "base_uri": "https://localhost:8080/"
        },
        "id": "mV5b4nxpSET5",
        "outputId": "9ef55f30-666b-4ee5-ca0b-1cdeebec386a"
      },
      "execution_count": null,
      "outputs": [
        {
          "output_type": "stream",
          "name": "stdout",
          "text": [
            "Deviasi Standar (standard deviation): 16.79315336677421\n"
          ]
        }
      ]
    },
    {
      "cell_type": "code",
      "source": [
        "#@title variansi (variance)\n",
        "\n",
        "variance = np.var(data)\n",
        "print(\"Variansi (variance):\", variance)"
      ],
      "metadata": {
        "colab": {
          "base_uri": "https://localhost:8080/"
        },
        "id": "c125S8cpSKuu",
        "outputId": "e7f14ce1-6161-4434-b4fa-25a5ffa1bf49"
      },
      "execution_count": null,
      "outputs": [
        {
          "output_type": "stream",
          "name": "stdout",
          "text": [
            "Variansi (variance): 282.01\n"
          ]
        }
      ]
    },
    {
      "cell_type": "code",
      "source": [
        "#@title minimum dan maksimum\n",
        "\n",
        "minimum = np.min(data)\n",
        "maximum = np.max(data)\n",
        "print(\"Nilai Minimum:\", minimum)\n",
        "print(\"Nilai Maksimum:\", maximum)"
      ],
      "metadata": {
        "colab": {
          "base_uri": "https://localhost:8080/"
        },
        "id": "HqPLQuc0SQ7i",
        "outputId": "824571b0-0214-480a-9ba6-507143aa7815"
      },
      "execution_count": null,
      "outputs": [
        {
          "output_type": "stream",
          "name": "stdout",
          "text": [
            "Nilai Minimum: 12\n",
            "Nilai Maksimum: 65\n"
          ]
        }
      ]
    },
    {
      "cell_type": "code",
      "source": [
        "#@title quartile\n",
        "\n",
        "# Menghitung kuartil pertama (Q1) dan kuartil ketiga (Q3)\n",
        "q1 = np.percentile(data, 25)\n",
        "q3 = np.percentile(data, 75)\n",
        "print(\"Kuartil Pertama (Q1):\", q1)\n",
        "print(\"Kuartil Ketiga (Q3):\", q3)\n",
        "\n",
        "\n",
        "# Menghitung rentang interkuartil (IQR)\n",
        "iqr = q3 - q1\n",
        "print(\"Rentang Interkuartil (IQR):\", iqr)"
      ],
      "metadata": {
        "colab": {
          "base_uri": "https://localhost:8080/"
        },
        "id": "kvH8VLXRSWWF",
        "outputId": "bea4e7f1-80e4-4843-83c2-9ca80892ea5d"
      },
      "execution_count": null,
      "outputs": [
        {
          "output_type": "stream",
          "name": "stdout",
          "text": [
            "Kuartil Pertama (Q1): 19.0\n",
            "Kuartil Ketiga (Q3): 43.75\n",
            "Rentang Interkuartil (IQR): 24.75\n"
          ]
        }
      ]
    },
    {
      "cell_type": "markdown",
      "source": [
        "## Soal 1\n",
        "\n",
        "Buat contoh :\n",
        "\n",
        "* numpy array (1D, 2D, 3D)\n",
        "* numpy join\n",
        "* numpy split\n",
        "* operasi matrik"
      ],
      "metadata": {
        "id": "DGpiGKJ7WxX-"
      }
    },
    {
      "cell_type": "code",
      "source": [
        "#@title Numpy Array (1D, 2D, 3D)\n",
        "\n",
        "import numpy as np\n",
        "\n",
        "# 1D Array\n",
        "array_1d = np.array([1, 2, 3, 4, 5])\n",
        "print(\"1D Array:\\n\", array_1d)\n",
        "\n",
        "# 2D Array\n",
        "array_2d = np.array([[1, 2, 3], [4, 5, 6]])\n",
        "print(\"\\n2D Array:\\n\", array_2d)\n",
        "\n",
        "# 3D Array\n",
        "array_3d = np.array([[[1, 2, 3], [4, 5, 6]], [[7, 8, 9], [10, 11, 12]]])\n",
        "print(\"\\n3D Array:\\n\", array_3d)"
      ],
      "metadata": {
        "colab": {
          "base_uri": "https://localhost:8080/"
        },
        "id": "ZYTwYN7H0Ae6",
        "outputId": "f0a6c2cd-f708-4788-e0ce-706b8d4c46cf"
      },
      "execution_count": null,
      "outputs": [
        {
          "output_type": "stream",
          "name": "stdout",
          "text": [
            "1D Array:\n",
            " [1 2 3 4 5]\n",
            "\n",
            "2D Array:\n",
            " [[1 2 3]\n",
            " [4 5 6]]\n",
            "\n",
            "3D Array:\n",
            " [[[ 1  2  3]\n",
            "  [ 4  5  6]]\n",
            "\n",
            " [[ 7  8  9]\n",
            "  [10 11 12]]]\n"
          ]
        }
      ]
    },
    {
      "cell_type": "code",
      "source": [
        "#@title Numpy Join\n",
        "\n",
        "# Join 1D Arrays\n",
        "array_a = np.array([1, 2, 3])\n",
        "array_b = np.array([4, 5, 6])\n",
        "joined_1d = np.concatenate((array_a, array_b))\n",
        "print(\"\\nJoined 1D Array:\\n\", joined_1d)\n",
        "\n",
        "# Join 2D Arrays along axis 0 (baris)\n",
        "joined_2d_axis0 = np.concatenate((array_2d, array_2d), axis=0)\n",
        "print(\"\\nJoined 2D Array (axis=0):\\n\", joined_2d_axis0)\n",
        "\n",
        "# Join 2D Arrays along axis 1 (kolom)\n",
        "joined_2d_axis1 = np.concatenate((array_2d, array_2d), axis=1)\n",
        "print(\"\\nJoined 2D Array (axis=1):\\n\", joined_2d_axis1)"
      ],
      "metadata": {
        "colab": {
          "base_uri": "https://localhost:8080/"
        },
        "id": "tFxXEuKH1Jw0",
        "outputId": "f3a67a90-9d85-40ac-a20a-5569943e6bdc"
      },
      "execution_count": null,
      "outputs": [
        {
          "output_type": "stream",
          "name": "stdout",
          "text": [
            "\n",
            "Joined 1D Array:\n",
            " [1 2 3 4 5 6]\n",
            "\n",
            "Joined 2D Array (axis=0):\n",
            " [[1 2 3]\n",
            " [4 5 6]\n",
            " [1 2 3]\n",
            " [4 5 6]]\n",
            "\n",
            "Joined 2D Array (axis=1):\n",
            " [[1 2 3 1 2 3]\n",
            " [4 5 6 4 5 6]]\n"
          ]
        }
      ]
    },
    {
      "cell_type": "code",
      "source": [
        "#@title Numpy Split\n",
        "# Split 1D Array menjadi 3 bagian\n",
        "split_1d = np.array_split(array_1d, 3)\n",
        "print(\"\\nSplit 1D Array:\\n\", split_1d)\n",
        "\n",
        "# Split 2D Array menjadi 2 bagian\n",
        "split_2d = np.array_split(array_2d, 2)\n",
        "print(\"\\nSplit 2D Array:\\n\", split_2d)\n",
        "\n",
        "# Split 3D Array menjadi 2 bagian\n",
        "split_3d = np.array_split(array_3d, 2)\n",
        "print(\"\\nSplit 3D Array:\\n\", split_3d)"
      ],
      "metadata": {
        "colab": {
          "base_uri": "https://localhost:8080/"
        },
        "id": "u6Uq2TAv1XMv",
        "outputId": "600ad590-76ba-4a7d-faa8-b62de1983903"
      },
      "execution_count": null,
      "outputs": [
        {
          "output_type": "stream",
          "name": "stdout",
          "text": [
            "\n",
            "Split 1D Array:\n",
            " [array([1, 2]), array([3, 4]), array([5])]\n",
            "\n",
            "Split 2D Array:\n",
            " [array([[1, 2, 3]]), array([[4, 5, 6]])]\n",
            "\n",
            "Split 3D Array:\n",
            " [array([[[1, 2, 3],\n",
            "        [4, 5, 6]]]), array([[[ 7,  8,  9],\n",
            "        [10, 11, 12]]])]\n"
          ]
        }
      ]
    },
    {
      "cell_type": "code",
      "source": [
        "#@title Operasi Matrik\n",
        "# Penjumlahan matriks\n",
        "matrix_a = np.array([[1, 2], [3, 4]])\n",
        "matrix_b = np.array([[5, 6], [7, 8]])\n",
        "matrix_sum = np.add(matrix_a, matrix_b)\n",
        "print(\"\\nPenjumlahan Matriks:\\n\", matrix_sum)\n",
        "\n",
        "# Perkalian matriks (element-wise)\n",
        "matrix_multiply = np.multiply(matrix_a, matrix_b)\n",
        "print(\"\\nPerkalian Element-wise Matriks:\\n\", matrix_multiply)\n",
        "\n",
        "# Pangkat matriks (power product)\n",
        "matrix_power = np.power(matrix_a, 2)\n",
        "print(\"\\nPangkat Product Matriks:\\n\", matrix_power)\n",
        "\n",
        "# Transpose matriks\n",
        "matrix_transpose = np.transpose(matrix_a)\n",
        "print(\"\\nTranspose Matriks:\\n\", matrix_transpose)"
      ],
      "metadata": {
        "colab": {
          "base_uri": "https://localhost:8080/"
        },
        "id": "_ZdOn8wc1dwv",
        "outputId": "c9c7c103-3af7-464b-d418-223f7e7e3c5c"
      },
      "execution_count": null,
      "outputs": [
        {
          "output_type": "stream",
          "name": "stdout",
          "text": [
            "\n",
            "Penjumlahan Matriks:\n",
            " [[ 6  8]\n",
            " [10 12]]\n",
            "\n",
            "Perkalian Element-wise Matriks:\n",
            " [[ 5 12]\n",
            " [21 32]]\n",
            "\n",
            "Pangkat Product Matriks:\n",
            " [[ 1  4]\n",
            " [ 9 16]]\n",
            "\n",
            "Transpose Matriks:\n",
            " [[1 3]\n",
            " [2 4]]\n"
          ]
        }
      ]
    },
    {
      "cell_type": "markdown",
      "source": [
        "## Soal 2\n",
        "\n",
        "* Buatlah numpy array dengan matrik ukuran 3x4 dan range array 10-30\n",
        "* Kemudian lakukan flatten\n",
        "* cari nilai statistik (mean, median, dsb)"
      ],
      "metadata": {
        "id": "t1PLm38lSw8u"
      }
    },
    {
      "cell_type": "code",
      "source": [
        "import numpy as np\n",
        "\n",
        "# Membuat array dengan ukuran 3x4 dan range elemen dari 10 hingga 30\n",
        "matrix = np.arange(10, 22).reshape(3, 4)\n",
        "print(\"Matriks 3x4:\\n\", matrix)\n",
        "\n",
        "# Flatten matriks menjadi 1D array\n",
        "flatten_array = matrix.flatten()\n",
        "print(\"\\nFlattened Array:\\n\", flatten_array)\n",
        "\n",
        "# Mencari nilai statistik\n",
        "mean_value = np.mean(flatten_array)\n",
        "median_value = np.median(flatten_array)\n",
        "min_value = np.min(flatten_array)\n",
        "max_value = np.max(flatten_array)\n",
        "std_value = np.std(flatten_array)\n",
        "var_value = np.var(flatten_array)\n",
        "\n",
        "print(\"\\nStatistik dari Flattened Array:\")\n",
        "print(f\"Mean: {mean_value}\")\n",
        "print(f\"Median: {median_value}\")\n",
        "print(f\"Minimum: {min_value}\")\n",
        "print(f\"Maksimum: {max_value}\")\n",
        "print(f\"Standar Deviasi: {std_value}\")\n",
        "print(f\"Variansi: {var_value}\")"
      ],
      "metadata": {
        "colab": {
          "base_uri": "https://localhost:8080/"
        },
        "id": "6jJ9ELFw474Z",
        "outputId": "2777a7f0-0fa2-4bff-ef2b-e7802860ef2f"
      },
      "execution_count": null,
      "outputs": [
        {
          "output_type": "stream",
          "name": "stdout",
          "text": [
            "Matriks 3x4:\n",
            " [[10 11 12 13]\n",
            " [14 15 16 17]\n",
            " [18 19 20 21]]\n",
            "\n",
            "Flattened Array:\n",
            " [10 11 12 13 14 15 16 17 18 19 20 21]\n",
            "\n",
            "Statistik dari Flattened Array:\n",
            "Mean: 15.5\n",
            "Median: 15.5\n",
            "Minimum: 10\n",
            "Maksimum: 21\n",
            "Standar Deviasi: 3.452052529534663\n",
            "Variansi: 11.916666666666666\n"
          ]
        }
      ]
    }
  ]
}