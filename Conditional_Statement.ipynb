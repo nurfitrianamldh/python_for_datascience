{
  "nbformat": 4,
  "nbformat_minor": 0,
  "metadata": {
    "colab": {
      "provenance": [],
      "include_colab_link": true
    },
    "kernelspec": {
      "name": "python3",
      "display_name": "Python 3"
    },
    "language_info": {
      "name": "python"
    }
  },
  "cells": [
    {
      "cell_type": "markdown",
      "metadata": {
        "id": "view-in-github",
        "colab_type": "text"
      },
      "source": [
        "<a href=\"https://colab.research.google.com/github/nurfitrianamldh/python_for_datascience/blob/main/Conditional_Statement.ipynb\" target=\"_parent\"><img src=\"https://colab.research.google.com/assets/colab-badge.svg\" alt=\"Open In Colab\"/></a>"
      ]
    },
    {
      "cell_type": "markdown",
      "source": [
        "**@create By : Dede Brahma Arianto S.Kom., M.Kom**"
      ],
      "metadata": {
        "id": "myqh9AIUeAwo"
      }
    },
    {
      "cell_type": "markdown",
      "source": [
        "# Conditional Statement"
      ],
      "metadata": {
        "id": "XJ2tDlS5e4Fi"
      }
    },
    {
      "cell_type": "markdown",
      "source": [
        "## Operator Perbandingan"
      ],
      "metadata": {
        "id": "AyDTmgfAfEsH"
      }
    },
    {
      "cell_type": "code",
      "execution_count": null,
      "metadata": {
        "colab": {
          "base_uri": "https://localhost:8080/"
        },
        "id": "7-CRjhyXe1Pz",
        "outputId": "c78ead23-3843-45c1-b7d1-6bf30f5f0886"
      },
      "outputs": [
        {
          "output_type": "stream",
          "name": "stdout",
          "text": [
            "Apakah sama ? False\n"
          ]
        }
      ],
      "source": [
        "#@title Kesamaan\n",
        "\n",
        "angka1 = 10\n",
        "angka2 = 5\n",
        "\n",
        "sama = angka1 == angka2\n",
        "\n",
        "print(\"Apakah sama ?\", sama)"
      ]
    },
    {
      "cell_type": "code",
      "source": [
        "#@title Tidak Sama\n",
        "\n",
        "angka1 = 10\n",
        "angka2 = 5\n",
        "\n",
        "tidak_sama = angka1 != angka2\n",
        "\n",
        "print(\"Apakah tidak sama ?\", tidak_sama)"
      ],
      "metadata": {
        "colab": {
          "base_uri": "https://localhost:8080/"
        },
        "id": "-20BhTA8fr2L",
        "outputId": "6594731b-916c-4291-d44c-4dcb15f22897"
      },
      "execution_count": null,
      "outputs": [
        {
          "output_type": "stream",
          "name": "stdout",
          "text": [
            "Apakah tidak sama ? True\n"
          ]
        }
      ]
    },
    {
      "cell_type": "code",
      "source": [
        "#@title Lebih Besar\n",
        "\n",
        "angka1 = 10\n",
        "angka2 = 5\n",
        "\n",
        "lebih_besar = angka1 > angka2\n",
        "\n",
        "print(\"Apakah lebih besar ?\", lebih_besar)"
      ],
      "metadata": {
        "colab": {
          "base_uri": "https://localhost:8080/"
        },
        "id": "HuZUbsNQf4ex",
        "outputId": "3ee1f2e8-d7b2-4797-bc2e-4881dcfd59c6"
      },
      "execution_count": null,
      "outputs": [
        {
          "output_type": "stream",
          "name": "stdout",
          "text": [
            "Apakah lebih besar ? True\n"
          ]
        }
      ]
    },
    {
      "cell_type": "code",
      "source": [
        "#@title Lebih Kecil\n",
        "\n",
        "angka1 = 10\n",
        "angka2 = 5\n",
        "\n",
        "lebih_kecil = angka1 < angka2\n",
        "\n",
        "print(\"Apakah lebih kecil ?\", lebih_kecil)"
      ],
      "metadata": {
        "colab": {
          "base_uri": "https://localhost:8080/"
        },
        "id": "B-qwVcK_gEJU",
        "outputId": "6b3a22e5-6aaa-43a5-b4e0-bb4873c881fd"
      },
      "execution_count": null,
      "outputs": [
        {
          "output_type": "stream",
          "name": "stdout",
          "text": [
            "Apakah lebih kecil ? False\n"
          ]
        }
      ]
    },
    {
      "cell_type": "code",
      "source": [
        "#@title Lebih Besar Sama Dengan\n",
        "\n",
        "angka1 = 10\n",
        "angka2 = 5\n",
        "\n",
        "lebih_besar_sama_dengan = angka1 >= angka2\n",
        "\n",
        "print(\"Apakah lebih besar atau sama dengan ?\", lebih_besar_sama_dengan)"
      ],
      "metadata": {
        "colab": {
          "base_uri": "https://localhost:8080/"
        },
        "id": "YpQtw7UjgLpE",
        "outputId": "3d2d18b8-85de-416c-dbc2-de6f7b82d601"
      },
      "execution_count": null,
      "outputs": [
        {
          "output_type": "stream",
          "name": "stdout",
          "text": [
            "Apakah lebih besar atau sama dengan ? True\n"
          ]
        }
      ]
    },
    {
      "cell_type": "code",
      "source": [
        "#@title Lebih Kecil Sama Dengan\n",
        "\n",
        "angka1 = 10\n",
        "angka2 = 5\n",
        "\n",
        "lebih_kecil_sama_dengan = angka1 <= angka2\n",
        "\n",
        "print(\"Apakah lebih besar atau sama dengan ?\", lebih_kecil_sama_dengan)"
      ],
      "metadata": {
        "colab": {
          "base_uri": "https://localhost:8080/"
        },
        "id": "BanXaPvjgV-0",
        "outputId": "96f6ae3f-4de0-474f-c5cf-d995cf170b1b"
      },
      "execution_count": null,
      "outputs": [
        {
          "output_type": "stream",
          "name": "stdout",
          "text": [
            "Apakah lebih besar atau sama dengan ? False\n"
          ]
        }
      ]
    },
    {
      "cell_type": "markdown",
      "source": [
        "## Operator Logika"
      ],
      "metadata": {
        "id": "za1DhAHrglJD"
      }
    },
    {
      "cell_type": "code",
      "source": [
        "#@title AND\n",
        "\n",
        "kondisi1 = True\n",
        "kondisi2 = False\n",
        "\n",
        "logika_and = kondisi1 and kondisi2\n",
        "\n",
        "print(\"Hasil Logika And:\", logika_and)"
      ],
      "metadata": {
        "colab": {
          "base_uri": "https://localhost:8080/"
        },
        "id": "JM9Z7doDgkz1",
        "outputId": "89e8963a-155d-4cbb-e67b-11c699207707"
      },
      "execution_count": null,
      "outputs": [
        {
          "output_type": "stream",
          "name": "stdout",
          "text": [
            "Hasil Logika And: False\n"
          ]
        }
      ]
    },
    {
      "cell_type": "code",
      "source": [
        "#@title OR\n",
        "\n",
        "kondisi1 = True\n",
        "kondisi2 = False\n",
        "\n",
        "logika_or = kondisi1 or kondisi2\n",
        "\n",
        "print(\"Hasil Logika OR:\", logika_or)"
      ],
      "metadata": {
        "colab": {
          "base_uri": "https://localhost:8080/"
        },
        "id": "nG8eyqHIhQCP",
        "outputId": "32c9422b-1ec4-45c6-b498-6622dff64997"
      },
      "execution_count": null,
      "outputs": [
        {
          "output_type": "stream",
          "name": "stdout",
          "text": [
            "Hasil Logika OR: True\n"
          ]
        }
      ]
    },
    {
      "cell_type": "code",
      "source": [
        "#@title NOT\n",
        "\n",
        "kondisi1 = True\n",
        "kondisi2 = False\n",
        "\n",
        "logika_not_1 = not kondisi1\n",
        "logika_not_2 = not kondisi2\n",
        "\n",
        "print(\"Hasil Logika NOT Kondisi 1:\", logika_not_1)\n",
        "print(\"Hasil Logika NOT Kondisi 2:\", logika_not_2)"
      ],
      "metadata": {
        "colab": {
          "base_uri": "https://localhost:8080/"
        },
        "id": "xXDw1daxhY1m",
        "outputId": "f375d109-4689-453e-da54-4efec1d89d5c"
      },
      "execution_count": null,
      "outputs": [
        {
          "output_type": "stream",
          "name": "stdout",
          "text": [
            "Hasil Logika NOT Kondisi 1: False\n",
            "Hasil Logika NOT Kondisi 2: True\n"
          ]
        }
      ]
    },
    {
      "cell_type": "markdown",
      "source": [
        "## Condition IF"
      ],
      "metadata": {
        "id": "D74TP5OAihzX"
      }
    },
    {
      "cell_type": "code",
      "source": [
        "#@title if\n",
        "\n",
        "bilangan = 6\n",
        "\n",
        "if bilangan > 4:\n",
        "    print(\"Bilangan positif\")"
      ],
      "metadata": {
        "id": "laWXU-XkiWmR",
        "colab": {
          "base_uri": "https://localhost:8080/"
        },
        "outputId": "2339e615-fffe-4c4b-d06c-4167429e5b5a"
      },
      "execution_count": null,
      "outputs": [
        {
          "output_type": "stream",
          "name": "stdout",
          "text": [
            "Bilangan positif\n"
          ]
        }
      ]
    },
    {
      "cell_type": "code",
      "source": [
        "#@title if-else\n",
        "\n",
        "bilangan = 5\n",
        "\n",
        "if bilangan > 0:\n",
        "    print(\"Bilangan positif\")\n",
        "else:\n",
        "    print(\"Bilangan negatif\")"
      ],
      "metadata": {
        "colab": {
          "base_uri": "https://localhost:8080/"
        },
        "id": "ynzuq7THitGc",
        "outputId": "a6cff08a-b228-4fdf-c157-6cbb70c640a1"
      },
      "execution_count": null,
      "outputs": [
        {
          "output_type": "stream",
          "name": "stdout",
          "text": [
            "Bilangan positif\n"
          ]
        }
      ]
    },
    {
      "cell_type": "code",
      "source": [
        "#@title if-elif-else\n",
        "\n",
        "bilangan = 0\n",
        "\n",
        "if bilangan > 0:\n",
        "    print(\"Bilangan positif\")\n",
        "elif bilangan < 0:\n",
        "    print(\"Bilangan negatif\")\n",
        "else:\n",
        "    print(\"Nol\")\n"
      ],
      "metadata": {
        "colab": {
          "base_uri": "https://localhost:8080/"
        },
        "id": "Y3XvBNOriyHb",
        "outputId": "24eb350b-f3e9-425a-b311-82dd633d9792"
      },
      "execution_count": null,
      "outputs": [
        {
          "output_type": "stream",
          "name": "stdout",
          "text": [
            "Nol\n"
          ]
        }
      ]
    },
    {
      "cell_type": "markdown",
      "source": [
        "## Soal 1\n",
        "\n",
        "Buatlah script program memeriksa apakah bilangan yang dimasukkan ganjil atau genap. Jika angka yang dimasukkan bernilai genap, akan muncul output: “Angka bernilai genap”. Namun jika angka yang dimasukkan bernilai ganjil, akan muncul output: “Angka bernilai ganjil”."
      ],
      "metadata": {
        "id": "1_k6bMnAh4mq"
      }
    },
    {
      "cell_type": "code",
      "source": [
        "# Soal 1\n",
        "n = int(input(\"Masukkan Bilangan: \"))\n",
        "if n % 2 == 0:\n",
        "  print(\"{} adalah angka bernilai genap\".format(n))\n",
        "else:\n",
        "  print(\"{} adalah angka bernilai ganjil\".format(n))"
      ],
      "metadata": {
        "id": "im4nnbC-EMJ9"
      },
      "execution_count": null,
      "outputs": []
    },
    {
      "cell_type": "markdown",
      "source": [
        "## Soal 2\n",
        "\n",
        "Buatlah script yang memberikan output sebagai berikut:\n",
        "Jika angka kelipatan 3, beri output “fizz”\n",
        "Jika angka kelipatan 5, beri output “buzz”\n",
        "Jika angka kelipatan 3 dan 5 beri output “fizzbuzz”\n",
        "Selain itu beri output “Nayy”\n"
      ],
      "metadata": {
        "id": "8RSV1ESjjF0k"
      }
    },
    {
      "cell_type": "code",
      "source": [
        "# Soal 2\n",
        "n = int(input(\"Masukkan Bilangan: \"))\n",
        "if n % 3 == 0 and n % 5 == 0:\n",
        "  print(\"fizzbuzz\")\n",
        "elif n % 3 == 0:\n",
        "  print(\"fizz\")\n",
        "elif n % 5 == 0:\n",
        "  print(\"buzz\")\n",
        "else:\n",
        "  print(\"Navy\")"
      ],
      "metadata": {
        "id": "abpH7HxcEoH2"
      },
      "execution_count": null,
      "outputs": []
    },
    {
      "cell_type": "markdown",
      "source": [
        "## Soal 3\n",
        "\n",
        "Buat contoh dari :\n",
        "* Operator perbandingan\n",
        "* Operator Logika\n",
        "* Operator Condition"
      ],
      "metadata": {
        "id": "dhLO_DxGWEpi"
      }
    },
    {
      "cell_type": "code",
      "source": [
        "# Soal 3\n",
        "# Variabel untuk contoh\n",
        "a = int(input(\"Masukkan Bilangan: \"))\n",
        "b = int(input(\"Masukkan Bilangan: \"))\n",
        "\n",
        "# Operator Perbandingan\n",
        "# Memeriksa apakah a lebih besar dari b\n",
        "if a > b:\n",
        "    print(\"a lebih besar dari b\")\n",
        "elif a < b:\n",
        "    print(\"a lebih kecil dari b\")\n",
        "else:\n",
        "    print(\"a sama dengan b\")\n",
        "\n",
        "# Operator Logika dan Condition\n",
        "# Memeriksa beberapa kondisi\n",
        "is_even = a % 2 == 0  # True jika a genap\n",
        "is_positive = a > 0    # True jika a positif\n",
        "\n",
        "if is_even and is_positive:\n",
        "    print(\"a adalah angka genap dan positif\")\n",
        "elif is_positive or is_even:\n",
        "    print(\"a adalah angka ganjil atau positif\")\n",
        "else:\n",
        "    print(\"a adalah angka negatif dan ganjil\")"
      ],
      "metadata": {
        "colab": {
          "base_uri": "https://localhost:8080/"
        },
        "id": "Z9BfxA2hGwWT",
        "outputId": "fba15a35-6f39-449b-88af-60fa61267b89"
      },
      "execution_count": null,
      "outputs": [
        {
          "output_type": "stream",
          "name": "stdout",
          "text": [
            "Masukkan Bilangan: -89\n",
            "Masukkan Bilangan: 9\n",
            "a lebih kecil dari b\n",
            "a adalah angka negatif dan ganjil\n"
          ]
        }
      ]
    },
    {
      "cell_type": "markdown",
      "source": [
        "## Soal 4\n",
        "\n",
        "buah = [\"nanas\", \"apel\", \"jeruk\"]\n",
        "\n",
        "buat conditional if dengan loop"
      ],
      "metadata": {
        "id": "Pp_w8r4Aom9S"
      }
    },
    {
      "cell_type": "code",
      "source": [
        "# List buah\n",
        "buah = [\"nanas\", \"apel\", \"jeruk\"]\n",
        "\n",
        "# Buah yang akan diperiksa\n",
        "buah_yang_dicari = [\"apel\", \"mangga\", \"jeruk\"]\n",
        "\n",
        "# Loop untuk memeriksa setiap buah dalam buah_yang_dicari\n",
        "for item in buah_yang_dicari:\n",
        "    if item in buah:\n",
        "        print(f\"{item} ada dalam list buah.\")\n",
        "    else:\n",
        "        print(f\"{item} tidak ada dalam list buah.\")"
      ],
      "metadata": {
        "id": "0Q5J2wWGF8aZ"
      },
      "execution_count": null,
      "outputs": []
    }
  ]
}